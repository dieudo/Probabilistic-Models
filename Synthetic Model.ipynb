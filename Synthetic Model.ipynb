{
 "cells": [
  {
   "cell_type": "code",
   "execution_count": 1,
   "metadata": {},
   "outputs": [
    {
     "name": "stdout",
     "output_type": "stream",
     "text": [
      "     D  I  G  L  S\n",
      "0    0  1  0  0  1\n",
      "1    0  0  0  1  0\n",
      "2    0  1  0  1  0\n",
      "3    1  1  1  1  1\n",
      "4    0  1  1  1  1\n",
      "5    1  0  0  0  1\n",
      "6    1  0  0  0  0\n",
      "7    0  1  1  1  0\n",
      "8    0  1  1  1  0\n",
      "9    1  1  0  1  1\n",
      "10   0  0  1  1  0\n",
      "11   1  0  1  1  1\n",
      "12   1  1  0  0  1\n",
      "13   0  1  0  1  0\n",
      "14   1  1  0  1  1\n",
      "15   0  0  1  1  0\n",
      "16   1  1  0  1  1\n",
      "17   1  0  0  0  0\n",
      "18   1  1  0  0  0\n",
      "19   1  1  0  1  0\n",
      "20   0  1  0  0  0\n",
      "21   1  0  1  1  1\n",
      "22   0  1  1  1  1\n",
      "23   1  0  0  0  1\n",
      "24   1  1  1  0  1\n",
      "25   0  1  0  0  1\n",
      "26   0  0  0  1  1\n",
      "27   1  0  1  0  1\n",
      "28   1  1  1  0  0\n",
      "29   1  1  1  1  0\n",
      "..  .. .. .. .. ..\n",
      "720  1  1  1  1  0\n",
      "721  0  1  1  0  1\n",
      "722  0  1  1  0  0\n",
      "723  1  1  0  0  1\n",
      "724  1  0  0  1  1\n",
      "725  0  0  0  0  0\n",
      "726  0  0  0  1  1\n",
      "727  0  0  1  0  1\n",
      "728  1  1  0  1  0\n",
      "729  0  1  0  0  0\n",
      "730  1  0  0  1  1\n",
      "731  1  0  1  0  1\n",
      "732  0  0  0  1  0\n",
      "733  1  0  1  1  1\n",
      "734  0  1  0  0  1\n",
      "735  1  1  1  0  1\n",
      "736  0  1  0  0  1\n",
      "737  1  1  1  0  1\n",
      "738  1  0  0  1  1\n",
      "739  1  1  1  0  1\n",
      "740  1  1  1  1  0\n",
      "741  1  0  1  0  0\n",
      "742  0  0  1  0  0\n",
      "743  0  0  0  0  0\n",
      "744  1  1  1  0  1\n",
      "745  1  1  1  0  0\n",
      "746  1  1  1  0  0\n",
      "747  1  1  1  1  0\n",
      "748  0  0  0  0  0\n",
      "749  1  0  1  0  1\n",
      "\n",
      "[750 rows x 5 columns]\n"
     ]
    },
    {
     "data": {
      "text/plain": [
       "<TabularCPD representing P(D:2) at 0x1a195a7400>"
      ]
     },
     "execution_count": 1,
     "metadata": {},
     "output_type": "execute_result"
    }
   ],
   "source": [
    "from pgmpy.models import BayesianModel\n",
    "import pandas as pd\n",
    "import numpy as np\n",
    "# Considering that each variable have only 2 states,\n",
    "# we can generate some random data.\n",
    "\n",
    "raw_data = np.random.randint(low=0,high=2,size=(1000, 5))\n",
    "\n",
    "\n",
    "data = pd.DataFrame(raw_data,columns=[\"D\", \"I\", \"G\",\"L\", \"S\"])\n",
    "\n",
    "print(data[: int(data.shape[0]*0.75)])\n",
    "\n",
    "data_train = data[: int(data.shape[0] * 0.75)]\n",
    "\n",
    "student_model = BayesianModel([(\"D\", \"G\"),(\"I\", \"G\"),(\"I\", \"S\"),(\"G\", \"L\")])\n",
    "student_model.fit(data_train)\n",
    "student_model.get_cpds('D')"
   ]
  },
  {
   "cell_type": "code",
   "execution_count": 4,
   "metadata": {},
   "outputs": [
    {
     "data": {
      "text/plain": [
       "<TabularCPD representing P(L:2 | G:2) at 0x1a1952ee48>"
      ]
     },
     "execution_count": 4,
     "metadata": {},
     "output_type": "execute_result"
    }
   ],
   "source": [
    "import matplotlib.pyplot as plt\n",
    "%matplotlib inline\n",
    "student_model.get_cpds('L')"
   ]
  },
  {
   "cell_type": "code",
   "execution_count": null,
   "metadata": {},
   "outputs": [],
   "source": []
  }
 ],
 "metadata": {
  "kernelspec": {
   "display_name": "Python 3",
   "language": "python",
   "name": "python3"
  },
  "language_info": {
   "codemirror_mode": {
    "name": "ipython",
    "version": 3
   },
   "file_extension": ".py",
   "mimetype": "text/x-python",
   "name": "python",
   "nbconvert_exporter": "python",
   "pygments_lexer": "ipython3",
   "version": "3.7.0"
  }
 },
 "nbformat": 4,
 "nbformat_minor": 2
}
